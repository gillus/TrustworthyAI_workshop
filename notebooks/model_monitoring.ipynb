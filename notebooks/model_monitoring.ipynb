{
 "cells": [
  {
   "cell_type": "markdown",
   "id": "f4833905",
   "metadata": {},
   "source": [
    "# Using deepchecks to validate data and monitor models in time"
   ]
  },
  {
   "cell_type": "code",
   "execution_count": 2,
   "id": "c343c9b6",
   "metadata": {},
   "outputs": [],
   "source": [
    "from catboost import CatBoostClassifier\n",
    "import pandas as pd\n",
    "import numpy as np\n",
    "from sklearn.metrics import classification_report\n",
    "from deepchecks.tabular import Dataset\n",
    "from deepchecks.tabular.suites import train_test_validation\n",
    "from deepchecks.tabular.suites import model_evaluation"
   ]
  },
  {
   "cell_type": "code",
   "execution_count": 2,
   "id": "4f0bb5f8",
   "metadata": {},
   "outputs": [],
   "source": [
    "Xtrain = pd.read_csv('../train.csv')\n",
    "Xtest = pd.read_csv('../holdout.csv')"
   ]
  },
  {
   "cell_type": "code",
   "execution_count": 3,
   "id": "ed39604f",
   "metadata": {},
   "outputs": [],
   "source": [
    "Xtest.index = max(Xtrain.index)+1+np.arange(Xtest.shape[0])"
   ]
  },
  {
   "cell_type": "code",
   "execution_count": 4,
   "id": "bc507f7c",
   "metadata": {},
   "outputs": [
    {
     "data": {
      "text/html": [
       "<div>\n",
       "<style scoped>\n",
       "    .dataframe tbody tr th:only-of-type {\n",
       "        vertical-align: middle;\n",
       "    }\n",
       "\n",
       "    .dataframe tbody tr th {\n",
       "        vertical-align: top;\n",
       "    }\n",
       "\n",
       "    .dataframe thead th {\n",
       "        text-align: right;\n",
       "    }\n",
       "</style>\n",
       "<table border=\"1\" class=\"dataframe\">\n",
       "  <thead>\n",
       "    <tr style=\"text-align: right;\">\n",
       "      <th></th>\n",
       "      <th>age</th>\n",
       "      <th>work_class</th>\n",
       "      <th>education</th>\n",
       "      <th>marital_status</th>\n",
       "      <th>occupation</th>\n",
       "      <th>relationship</th>\n",
       "      <th>race</th>\n",
       "      <th>sex</th>\n",
       "      <th>capital_gain</th>\n",
       "      <th>capital_loss</th>\n",
       "      <th>hours_per_week</th>\n",
       "      <th>native_country</th>\n",
       "      <th>income</th>\n",
       "    </tr>\n",
       "  </thead>\n",
       "  <tbody>\n",
       "    <tr>\n",
       "      <th>17099</th>\n",
       "      <td>19</td>\n",
       "      <td>Private</td>\n",
       "      <td>High School grad</td>\n",
       "      <td>Never-Married</td>\n",
       "      <td>Sales</td>\n",
       "      <td>Own-child</td>\n",
       "      <td>White</td>\n",
       "      <td>Female</td>\n",
       "      <td>0.0</td>\n",
       "      <td>0.0</td>\n",
       "      <td>7.0</td>\n",
       "      <td>United-States</td>\n",
       "      <td>&lt;=50K</td>\n",
       "    </tr>\n",
       "    <tr>\n",
       "      <th>17100</th>\n",
       "      <td>49</td>\n",
       "      <td>Private</td>\n",
       "      <td>Masters</td>\n",
       "      <td>Married</td>\n",
       "      <td>White-Collar</td>\n",
       "      <td>Husband</td>\n",
       "      <td>White</td>\n",
       "      <td>Male</td>\n",
       "      <td>15024.0</td>\n",
       "      <td>0.0</td>\n",
       "      <td>80.0</td>\n",
       "      <td>United-States</td>\n",
       "      <td>&gt;50K</td>\n",
       "    </tr>\n",
       "    <tr>\n",
       "      <th>17101</th>\n",
       "      <td>50</td>\n",
       "      <td>Private</td>\n",
       "      <td>High School grad</td>\n",
       "      <td>Married</td>\n",
       "      <td>Blue-Collar</td>\n",
       "      <td>Husband</td>\n",
       "      <td>White</td>\n",
       "      <td>Male</td>\n",
       "      <td>3103.0</td>\n",
       "      <td>0.0</td>\n",
       "      <td>40.0</td>\n",
       "      <td>United-States</td>\n",
       "      <td>&gt;50K</td>\n",
       "    </tr>\n",
       "    <tr>\n",
       "      <th>17102</th>\n",
       "      <td>39</td>\n",
       "      <td>Local-gov</td>\n",
       "      <td>Masters</td>\n",
       "      <td>Never-Married</td>\n",
       "      <td>Professional</td>\n",
       "      <td>Not-in-family</td>\n",
       "      <td>White</td>\n",
       "      <td>Female</td>\n",
       "      <td>0.0</td>\n",
       "      <td>0.0</td>\n",
       "      <td>50.0</td>\n",
       "      <td>United-States</td>\n",
       "      <td>&lt;=50K</td>\n",
       "    </tr>\n",
       "    <tr>\n",
       "      <th>17103</th>\n",
       "      <td>26</td>\n",
       "      <td>Private</td>\n",
       "      <td>High School grad</td>\n",
       "      <td>Married</td>\n",
       "      <td>Admin</td>\n",
       "      <td>Husband</td>\n",
       "      <td>White</td>\n",
       "      <td>Male</td>\n",
       "      <td>0.0</td>\n",
       "      <td>0.0</td>\n",
       "      <td>40.0</td>\n",
       "      <td>United-States</td>\n",
       "      <td>&lt;=50K</td>\n",
       "    </tr>\n",
       "    <tr>\n",
       "      <th>...</th>\n",
       "      <td>...</td>\n",
       "      <td>...</td>\n",
       "      <td>...</td>\n",
       "      <td>...</td>\n",
       "      <td>...</td>\n",
       "      <td>...</td>\n",
       "      <td>...</td>\n",
       "      <td>...</td>\n",
       "      <td>...</td>\n",
       "      <td>...</td>\n",
       "      <td>...</td>\n",
       "      <td>...</td>\n",
       "      <td>...</td>\n",
       "    </tr>\n",
       "    <tr>\n",
       "      <th>30666</th>\n",
       "      <td>32</td>\n",
       "      <td>Private</td>\n",
       "      <td>Bachelors</td>\n",
       "      <td>Never-Married</td>\n",
       "      <td>Sales</td>\n",
       "      <td>Own-child</td>\n",
       "      <td>White</td>\n",
       "      <td>Male</td>\n",
       "      <td>13550.0</td>\n",
       "      <td>0.0</td>\n",
       "      <td>35.0</td>\n",
       "      <td>United-States</td>\n",
       "      <td>&gt;50K</td>\n",
       "    </tr>\n",
       "    <tr>\n",
       "      <th>30667</th>\n",
       "      <td>35</td>\n",
       "      <td>Private</td>\n",
       "      <td>Bachelors</td>\n",
       "      <td>Married</td>\n",
       "      <td>Sales</td>\n",
       "      <td>Husband</td>\n",
       "      <td>White</td>\n",
       "      <td>Male</td>\n",
       "      <td>7298.0</td>\n",
       "      <td>0.0</td>\n",
       "      <td>48.0</td>\n",
       "      <td>United-States</td>\n",
       "      <td>&gt;50K</td>\n",
       "    </tr>\n",
       "    <tr>\n",
       "      <th>30668</th>\n",
       "      <td>42</td>\n",
       "      <td>Private</td>\n",
       "      <td>High School grad</td>\n",
       "      <td>Married</td>\n",
       "      <td>Admin</td>\n",
       "      <td>Wife</td>\n",
       "      <td>White</td>\n",
       "      <td>Female</td>\n",
       "      <td>0.0</td>\n",
       "      <td>0.0</td>\n",
       "      <td>36.0</td>\n",
       "      <td>United-States</td>\n",
       "      <td>&gt;50K</td>\n",
       "    </tr>\n",
       "    <tr>\n",
       "      <th>30669</th>\n",
       "      <td>41</td>\n",
       "      <td>Private</td>\n",
       "      <td>Bachelors</td>\n",
       "      <td>Separated</td>\n",
       "      <td>Admin</td>\n",
       "      <td>Unmarried</td>\n",
       "      <td>White</td>\n",
       "      <td>Female</td>\n",
       "      <td>0.0</td>\n",
       "      <td>0.0</td>\n",
       "      <td>33.0</td>\n",
       "      <td>United-States</td>\n",
       "      <td>&lt;=50K</td>\n",
       "    </tr>\n",
       "    <tr>\n",
       "      <th>30670</th>\n",
       "      <td>12</td>\n",
       "      <td>State-gov</td>\n",
       "      <td>Bachelors</td>\n",
       "      <td>Married</td>\n",
       "      <td>White-Collar</td>\n",
       "      <td>Husband</td>\n",
       "      <td>White</td>\n",
       "      <td>Male</td>\n",
       "      <td>0.0</td>\n",
       "      <td>1902.0</td>\n",
       "      <td>40.0</td>\n",
       "      <td>United-States</td>\n",
       "      <td>&gt;50K</td>\n",
       "    </tr>\n",
       "  </tbody>\n",
       "</table>\n",
       "<p>13572 rows × 13 columns</p>\n",
       "</div>"
      ],
      "text/plain": [
       "       age work_class         education marital_status    occupation  \\\n",
       "17099   19    Private  High School grad  Never-Married         Sales   \n",
       "17100   49    Private           Masters        Married  White-Collar   \n",
       "17101   50    Private  High School grad        Married   Blue-Collar   \n",
       "17102   39  Local-gov           Masters  Never-Married  Professional   \n",
       "17103   26    Private  High School grad        Married         Admin   \n",
       "...    ...        ...               ...            ...           ...   \n",
       "30666   32    Private         Bachelors  Never-Married         Sales   \n",
       "30667   35    Private         Bachelors        Married         Sales   \n",
       "30668   42    Private  High School grad        Married         Admin   \n",
       "30669   41    Private         Bachelors      Separated         Admin   \n",
       "30670   12  State-gov         Bachelors        Married  White-Collar   \n",
       "\n",
       "        relationship   race     sex  capital_gain  capital_loss  \\\n",
       "17099      Own-child  White  Female           0.0           0.0   \n",
       "17100        Husband  White    Male       15024.0           0.0   \n",
       "17101        Husband  White    Male        3103.0           0.0   \n",
       "17102  Not-in-family  White  Female           0.0           0.0   \n",
       "17103        Husband  White    Male           0.0           0.0   \n",
       "...              ...    ...     ...           ...           ...   \n",
       "30666      Own-child  White    Male       13550.0           0.0   \n",
       "30667        Husband  White    Male        7298.0           0.0   \n",
       "30668           Wife  White  Female           0.0           0.0   \n",
       "30669      Unmarried  White  Female           0.0           0.0   \n",
       "30670        Husband  White    Male           0.0        1902.0   \n",
       "\n",
       "       hours_per_week native_country income  \n",
       "17099             7.0  United-States  <=50K  \n",
       "17100            80.0  United-States   >50K  \n",
       "17101            40.0  United-States   >50K  \n",
       "17102            50.0  United-States  <=50K  \n",
       "17103            40.0  United-States  <=50K  \n",
       "...               ...            ...    ...  \n",
       "30666            35.0  United-States   >50K  \n",
       "30667            48.0  United-States   >50K  \n",
       "30668            36.0  United-States   >50K  \n",
       "30669            33.0  United-States  <=50K  \n",
       "30670            40.0  United-States   >50K  \n",
       "\n",
       "[13572 rows x 13 columns]"
      ]
     },
     "execution_count": 4,
     "metadata": {},
     "output_type": "execute_result"
    }
   ],
   "source": [
    "Xtest"
   ]
  },
  {
   "cell_type": "code",
   "execution_count": 5,
   "id": "e819dea3",
   "metadata": {},
   "outputs": [
    {
     "data": {
      "text/plain": [
       "['work_class',\n",
       " 'education',\n",
       " 'marital_status',\n",
       " 'occupation',\n",
       " 'relationship',\n",
       " 'race',\n",
       " 'sex',\n",
       " 'native_country',\n",
       " 'income']"
      ]
     },
     "execution_count": 5,
     "metadata": {},
     "output_type": "execute_result"
    }
   ],
   "source": [
    "cat_feat = [i for i in Xtrain.columns if Xtrain[i].dtype=='object']\n",
    "cat_feat"
   ]
  },
  {
   "cell_type": "code",
   "execution_count": 6,
   "id": "b9c7b47a",
   "metadata": {},
   "outputs": [],
   "source": [
    "cat_feat.remove('income')\n",
    "clf = CatBoostClassifier(cat_features=cat_feat, \n",
    "                         n_estimators=100, \n",
    "                         verbose=False).fit(Xtrain.drop(['income'],axis=1),\n",
    "                                            Xtrain['income'])"
   ]
  },
  {
   "cell_type": "code",
   "execution_count": 7,
   "id": "bf6e76ab",
   "metadata": {},
   "outputs": [
    {
     "name": "stdout",
     "output_type": "stream",
     "text": [
      "              precision    recall  f1-score   support\n",
      "\n",
      "       <=50K       0.89      0.94      0.91     10232\n",
      "        >50K       0.78      0.64      0.70      3340\n",
      "\n",
      "    accuracy                           0.87     13572\n",
      "   macro avg       0.83      0.79      0.81     13572\n",
      "weighted avg       0.86      0.87      0.86     13572\n",
      "\n"
     ]
    }
   ],
   "source": [
    "print(classification_report(Xtest['income'],clf.predict(Xtest.drop(['income'],axis=1))))"
   ]
  },
  {
   "cell_type": "code",
   "execution_count": 8,
   "id": "17ead80d",
   "metadata": {},
   "outputs": [],
   "source": [
    "train_ds1 = Dataset(Xtrain, label='income',cat_features=cat_feat, set_index_from_dataframe_index=True)\n",
    "test_ds1 = Dataset(Xtest, label='income',cat_features=cat_feat, set_index_from_dataframe_index=True)"
   ]
  },
  {
   "cell_type": "code",
   "execution_count": 9,
   "id": "535028b7",
   "metadata": {},
   "outputs": [
    {
     "data": {
      "text/html": [
       "\n",
       "    <style>\n",
       "        progress {\n",
       "            -webkit-appearance: none;\n",
       "            border: none;\n",
       "            border-radius: 3px;\n",
       "            width: 300px;\n",
       "            height: 20px;\n",
       "            vertical-align: middle;\n",
       "            margin-right: 10px;\n",
       "            background-color: aliceblue;\n",
       "        }\n",
       "        progress::-webkit-progress-bar {\n",
       "            border-radius: 3px;\n",
       "            background-color: aliceblue;\n",
       "        }\n",
       "        progress::-webkit-progress-value {\n",
       "            background-color: #9d60fb;\n",
       "        }\n",
       "        progress::-moz-progress-bar {\n",
       "            background-color: #9d60fb;\n",
       "        }\n",
       "    </style>\n",
       "    "
      ]
     },
     "metadata": {},
     "output_type": "display_data"
    },
    {
     "data": {
      "text/html": []
     },
     "metadata": {},
     "output_type": "display_data"
    }
   ],
   "source": [
    "validation_suite1 = train_test_validation()\n",
    "suite_result1 = validation_suite1.run(train_ds1, test_ds1)\n"
   ]
  },
  {
   "cell_type": "code",
   "execution_count": 10,
   "id": "9cc6d392",
   "metadata": {},
   "outputs": [
    {
     "data": {
      "application/vnd.jupyter.widget-view+json": {
       "model_id": "28c332724faa4f029fea8651fe6e2273",
       "version_major": 2,
       "version_minor": 0
      },
      "text/plain": [
       "Accordion(children=(VBox(children=(HTML(value='\\n<h1 id=\"summary_7IQSZ8HQ1Q65O8DEN2L8KOTSU\">Train Test Validat…"
      ]
     },
     "metadata": {},
     "output_type": "display_data"
    }
   ],
   "source": [
    "suite_result1"
   ]
  },
  {
   "cell_type": "code",
   "execution_count": 11,
   "id": "0205d64d",
   "metadata": {},
   "outputs": [
    {
     "data": {
      "text/plain": [
       "'report (1).html'"
      ]
     },
     "execution_count": 11,
     "metadata": {},
     "output_type": "execute_result"
    }
   ],
   "source": [
    "suite_result1.save_as_html('report.html')"
   ]
  },
  {
   "cell_type": "code",
   "execution_count": 12,
   "id": "9f358e48",
   "metadata": {},
   "outputs": [
    {
     "data": {
      "application/vnd.jupyter.widget-view+json": {
       "model_id": "a60788d863084138ac98c78b6942e4fb",
       "version_major": 2,
       "version_minor": 0
      },
      "text/plain": [
       "Accordion(children=(VBox(children=(HTML(value='\\n<h1 id=\"summary_KT12W554L1146DX8H90RWVCB9\">Train Test Validat…"
      ]
     },
     "metadata": {},
     "output_type": "display_data"
    }
   ],
   "source": [
    "suite_result1.show()"
   ]
  },
  {
   "cell_type": "code",
   "execution_count": 13,
   "id": "40a45ace",
   "metadata": {},
   "outputs": [
    {
     "data": {
      "text/html": [
       "\n",
       "    <style>\n",
       "        progress {\n",
       "            -webkit-appearance: none;\n",
       "            border: none;\n",
       "            border-radius: 3px;\n",
       "            width: 300px;\n",
       "            height: 20px;\n",
       "            vertical-align: middle;\n",
       "            margin-right: 10px;\n",
       "            background-color: aliceblue;\n",
       "        }\n",
       "        progress::-webkit-progress-bar {\n",
       "            border-radius: 3px;\n",
       "            background-color: aliceblue;\n",
       "        }\n",
       "        progress::-webkit-progress-value {\n",
       "            background-color: #9d60fb;\n",
       "        }\n",
       "        progress::-moz-progress-bar {\n",
       "            background-color: #9d60fb;\n",
       "        }\n",
       "    </style>\n",
       "    "
      ]
     },
     "metadata": {},
     "output_type": "display_data"
    },
    {
     "data": {
      "text/html": []
     },
     "metadata": {},
     "output_type": "display_data"
    }
   ],
   "source": [
    "result1 = model_evaluation().run(train_dataset=train_ds1, test_dataset=test_ds1, model=clf)"
   ]
  },
  {
   "cell_type": "code",
   "execution_count": 14,
   "id": "f6b024ab",
   "metadata": {
    "scrolled": true
   },
   "outputs": [
    {
     "data": {
      "application/vnd.jupyter.widget-view+json": {
       "model_id": "2e7395c21cd546ed98cb32252dfb6488",
       "version_major": 2,
       "version_minor": 0
      },
      "text/plain": [
       "Accordion(children=(VBox(children=(HTML(value='\\n<h1 id=\"summary_TUIS51XMPUS90N1UB7JF5F0TP\">Model Evaluation S…"
      ]
     },
     "metadata": {},
     "output_type": "display_data"
    }
   ],
   "source": [
    "result1.show()"
   ]
  },
  {
   "cell_type": "code",
   "execution_count": 15,
   "id": "1fd8d8a6",
   "metadata": {},
   "outputs": [
    {
     "data": {
      "text/plain": [
       "'model_report (2).html'"
      ]
     },
     "execution_count": 15,
     "metadata": {},
     "output_type": "execute_result"
    }
   ],
   "source": [
    "result1.save_as_html('model_report.html')"
   ]
  },
  {
   "cell_type": "code",
   "execution_count": null,
   "id": "a685b385",
   "metadata": {},
   "outputs": [],
   "source": []
  }
 ],
 "metadata": {
  "kernelspec": {
   "display_name": "ge39",
   "language": "python",
   "name": "ge39"
  },
  "language_info": {
   "codemirror_mode": {
    "name": "ipython",
    "version": 3
   },
   "file_extension": ".py",
   "mimetype": "text/x-python",
   "name": "python",
   "nbconvert_exporter": "python",
   "pygments_lexer": "ipython3",
   "version": "3.9.16"
  }
 },
 "nbformat": 4,
 "nbformat_minor": 5
}
